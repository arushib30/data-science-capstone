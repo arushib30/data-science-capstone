{
 "cells": [
  {
   "cell_type": "markdown",
   "metadata": {},
   "source": [
    "# Part 2: Data Pre-Processing\n",
    "\n",
    "Author: `Arushi Bhandari`\n",
    "\n",
    "This notebook details the pre-processing of the merged data"
   ]
  },
  {
   "cell_type": "code",
   "execution_count": 1,
   "metadata": {},
   "outputs": [],
   "source": [
    "# importing required packages\n",
    "import pandas as pd\n",
    "import re\n",
    "import pickle"
   ]
  },
  {
   "cell_type": "code",
   "execution_count": 2,
   "metadata": {},
   "outputs": [],
   "source": [
    "tweets = pd.read_csv(\"tweetswusers.csv\", index_col=0)"
   ]
  },
  {
   "cell_type": "code",
   "execution_count": 3,
   "metadata": {},
   "outputs": [
    {
     "data": {
      "text/html": [
       "<div>\n",
       "<style scoped>\n",
       "    .dataframe tbody tr th:only-of-type {\n",
       "        vertical-align: middle;\n",
       "    }\n",
       "\n",
       "    .dataframe tbody tr th {\n",
       "        vertical-align: top;\n",
       "    }\n",
       "\n",
       "    .dataframe thead th {\n",
       "        text-align: right;\n",
       "    }\n",
       "</style>\n",
       "<table border=\"1\" class=\"dataframe\">\n",
       "  <thead>\n",
       "    <tr style=\"text-align: right;\">\n",
       "      <th></th>\n",
       "      <th>level_0</th>\n",
       "      <th>tweetUrl</th>\n",
       "      <th>renderedContent</th>\n",
       "      <th>userId</th>\n",
       "      <th>source</th>\n",
       "      <th>media</th>\n",
       "      <th>username</th>\n",
       "      <th>displayname</th>\n",
       "      <th>rawDescription</th>\n",
       "      <th>verified</th>\n",
       "      <th>followersCount</th>\n",
       "      <th>location</th>\n",
       "      <th>protected</th>\n",
       "      <th>profileUrl</th>\n",
       "    </tr>\n",
       "  </thead>\n",
       "  <tbody>\n",
       "    <tr>\n",
       "      <th>0</th>\n",
       "      <td>0</td>\n",
       "      <td>https://twitter.com/PSGrewal2/status/135421733...</td>\n",
       "      <td>@amaanbali Pray for their recovery 🙏🏼\\n\\n#Farm...</td>\n",
       "      <td>1.576671e+09</td>\n",
       "      <td>&lt;a href=\"https://mobile.twitter.com\" rel=\"nofo...</td>\n",
       "      <td>NaN</td>\n",
       "      <td>PSGrewal2</td>\n",
       "      <td>P.S. Grewal</td>\n",
       "      <td>#WeTheNorth | #LeafsForever | #TFCLive</td>\n",
       "      <td>False</td>\n",
       "      <td>966</td>\n",
       "      <td>Brampton, Ontario</td>\n",
       "      <td>False</td>\n",
       "      <td>https://twitter.com/PSGrewal2</td>\n",
       "    </tr>\n",
       "    <tr>\n",
       "      <th>1</th>\n",
       "      <td>1</td>\n",
       "      <td>https://twitter.com/PSGrewal2/status/135421126...</td>\n",
       "      <td>@HarvKudos What was he even thinking? 🤡\\n\\n#Fa...</td>\n",
       "      <td>1.576671e+09</td>\n",
       "      <td>&lt;a href=\"https://mobile.twitter.com\" rel=\"nofo...</td>\n",
       "      <td>NaN</td>\n",
       "      <td>PSGrewal2</td>\n",
       "      <td>P.S. Grewal</td>\n",
       "      <td>#WeTheNorth | #LeafsForever | #TFCLive</td>\n",
       "      <td>False</td>\n",
       "      <td>966</td>\n",
       "      <td>Brampton, Ontario</td>\n",
       "      <td>False</td>\n",
       "      <td>https://twitter.com/PSGrewal2</td>\n",
       "    </tr>\n",
       "    <tr>\n",
       "      <th>2</th>\n",
       "      <td>2</td>\n",
       "      <td>https://twitter.com/PSGrewal2/status/135420534...</td>\n",
       "      <td>@RaviSinghKA You owned him #FarmersProtest htt...</td>\n",
       "      <td>1.576671e+09</td>\n",
       "      <td>&lt;a href=\"https://mobile.twitter.com\" rel=\"nofo...</td>\n",
       "      <td>[{'thumbnailUrl': 'https://pbs.twimg.com/tweet...</td>\n",
       "      <td>PSGrewal2</td>\n",
       "      <td>P.S. Grewal</td>\n",
       "      <td>#WeTheNorth | #LeafsForever | #TFCLive</td>\n",
       "      <td>False</td>\n",
       "      <td>966</td>\n",
       "      <td>Brampton, Ontario</td>\n",
       "      <td>False</td>\n",
       "      <td>https://twitter.com/PSGrewal2</td>\n",
       "    </tr>\n",
       "    <tr>\n",
       "      <th>3</th>\n",
       "      <td>3</td>\n",
       "      <td>https://twitter.com/PSGrewal2/status/135405595...</td>\n",
       "      <td>Look what's trending number 1 in Canada right ...</td>\n",
       "      <td>1.576671e+09</td>\n",
       "      <td>&lt;a href=\"https://mobile.twitter.com\" rel=\"nofo...</td>\n",
       "      <td>[{'previewUrl': 'https://pbs.twimg.com/media/E...</td>\n",
       "      <td>PSGrewal2</td>\n",
       "      <td>P.S. Grewal</td>\n",
       "      <td>#WeTheNorth | #LeafsForever | #TFCLive</td>\n",
       "      <td>False</td>\n",
       "      <td>966</td>\n",
       "      <td>Brampton, Ontario</td>\n",
       "      <td>False</td>\n",
       "      <td>https://twitter.com/PSGrewal2</td>\n",
       "    </tr>\n",
       "    <tr>\n",
       "      <th>4</th>\n",
       "      <td>4</td>\n",
       "      <td>https://twitter.com/PSGrewal2/status/135401934...</td>\n",
       "      <td>@JaskaranSandhu_ Beautiful sight to see 🙏🏽\\n\\n...</td>\n",
       "      <td>1.576671e+09</td>\n",
       "      <td>&lt;a href=\"https://mobile.twitter.com\" rel=\"nofo...</td>\n",
       "      <td>NaN</td>\n",
       "      <td>PSGrewal2</td>\n",
       "      <td>P.S. Grewal</td>\n",
       "      <td>#WeTheNorth | #LeafsForever | #TFCLive</td>\n",
       "      <td>False</td>\n",
       "      <td>966</td>\n",
       "      <td>Brampton, Ontario</td>\n",
       "      <td>False</td>\n",
       "      <td>https://twitter.com/PSGrewal2</td>\n",
       "    </tr>\n",
       "  </tbody>\n",
       "</table>\n",
       "</div>"
      ],
      "text/plain": [
       "   level_0                                           tweetUrl  \\\n",
       "0        0  https://twitter.com/PSGrewal2/status/135421733...   \n",
       "1        1  https://twitter.com/PSGrewal2/status/135421126...   \n",
       "2        2  https://twitter.com/PSGrewal2/status/135420534...   \n",
       "3        3  https://twitter.com/PSGrewal2/status/135405595...   \n",
       "4        4  https://twitter.com/PSGrewal2/status/135401934...   \n",
       "\n",
       "                                     renderedContent        userId  \\\n",
       "0  @amaanbali Pray for their recovery 🙏🏼\\n\\n#Farm...  1.576671e+09   \n",
       "1  @HarvKudos What was he even thinking? 🤡\\n\\n#Fa...  1.576671e+09   \n",
       "2  @RaviSinghKA You owned him #FarmersProtest htt...  1.576671e+09   \n",
       "3  Look what's trending number 1 in Canada right ...  1.576671e+09   \n",
       "4  @JaskaranSandhu_ Beautiful sight to see 🙏🏽\\n\\n...  1.576671e+09   \n",
       "\n",
       "                                              source  \\\n",
       "0  <a href=\"https://mobile.twitter.com\" rel=\"nofo...   \n",
       "1  <a href=\"https://mobile.twitter.com\" rel=\"nofo...   \n",
       "2  <a href=\"https://mobile.twitter.com\" rel=\"nofo...   \n",
       "3  <a href=\"https://mobile.twitter.com\" rel=\"nofo...   \n",
       "4  <a href=\"https://mobile.twitter.com\" rel=\"nofo...   \n",
       "\n",
       "                                               media   username  displayname  \\\n",
       "0                                                NaN  PSGrewal2  P.S. Grewal   \n",
       "1                                                NaN  PSGrewal2  P.S. Grewal   \n",
       "2  [{'thumbnailUrl': 'https://pbs.twimg.com/tweet...  PSGrewal2  P.S. Grewal   \n",
       "3  [{'previewUrl': 'https://pbs.twimg.com/media/E...  PSGrewal2  P.S. Grewal   \n",
       "4                                                NaN  PSGrewal2  P.S. Grewal   \n",
       "\n",
       "                           rawDescription  verified  followersCount  \\\n",
       "0  #WeTheNorth | #LeafsForever | #TFCLive     False             966   \n",
       "1  #WeTheNorth | #LeafsForever | #TFCLive     False             966   \n",
       "2  #WeTheNorth | #LeafsForever | #TFCLive     False             966   \n",
       "3  #WeTheNorth | #LeafsForever | #TFCLive     False             966   \n",
       "4  #WeTheNorth | #LeafsForever | #TFCLive     False             966   \n",
       "\n",
       "            location  protected                     profileUrl  \n",
       "0  Brampton, Ontario      False  https://twitter.com/PSGrewal2  \n",
       "1  Brampton, Ontario      False  https://twitter.com/PSGrewal2  \n",
       "2  Brampton, Ontario      False  https://twitter.com/PSGrewal2  \n",
       "3  Brampton, Ontario      False  https://twitter.com/PSGrewal2  \n",
       "4  Brampton, Ontario      False  https://twitter.com/PSGrewal2  "
      ]
     },
     "execution_count": 3,
     "metadata": {},
     "output_type": "execute_result"
    }
   ],
   "source": [
    "tweets.head()"
   ]
  },
  {
   "cell_type": "code",
   "execution_count": 4,
   "metadata": {},
   "outputs": [
    {
     "data": {
      "text/plain": [
       "'@HarvKudos What was he even thinking? 🤡\\n\\n#FarmersProtest'"
      ]
     },
     "execution_count": 4,
     "metadata": {},
     "output_type": "execute_result"
    }
   ],
   "source": [
    "tweets.loc[1]['renderedContent']"
   ]
  },
  {
   "cell_type": "markdown",
   "metadata": {},
   "source": [
    "### Text Cleaning and Preparation"
   ]
  },
  {
   "cell_type": "markdown",
   "metadata": {},
   "source": [
    "##### Special character cleaning\n",
    "\n",
    "I remove the following special characters:\n",
    "\n",
    "`\\r`   \n",
    "`\\n`   \n",
    "`\\`  "
   ]
  },
  {
   "cell_type": "code",
   "execution_count": 5,
   "metadata": {},
   "outputs": [],
   "source": [
    "tweets['parsed'] = tweets['renderedContent'].str.replace(\"\\r\", \" \")\n",
    "tweets['parsed'] = tweets['parsed'].str.replace(\"\\n\", \" \")\n",
    "tweets['parsed'] = tweets['parsed'].str.replace(\"    \", \" \")"
   ]
  },
  {
   "cell_type": "code",
   "execution_count": 6,
   "metadata": {},
   "outputs": [
    {
     "data": {
      "text/plain": [
       "'@HarvKudos What was he even thinking? 🤡  #FarmersProtest'"
      ]
     },
     "execution_count": 6,
     "metadata": {},
     "output_type": "execute_result"
    }
   ],
   "source": [
    "tweets.loc[1]['parsed']"
   ]
  },
  {
   "cell_type": "markdown",
   "metadata": {},
   "source": [
    "I then make the text lowercase"
   ]
  },
  {
   "cell_type": "code",
   "execution_count": 7,
   "metadata": {},
   "outputs": [],
   "source": [
    "# Lowercasing the text\n",
    "tweets['lower'] = tweets['parsed'].str.lower()"
   ]
  },
  {
   "cell_type": "code",
   "execution_count": 8,
   "metadata": {},
   "outputs": [
    {
     "data": {
      "text/plain": [
       "'@harvkudos what was he even thinking? 🤡  #farmersprotest'"
      ]
     },
     "execution_count": 8,
     "metadata": {},
     "output_type": "execute_result"
    }
   ],
   "source": [
    "tweets.loc[1]['lower']"
   ]
  },
  {
   "cell_type": "markdown",
   "metadata": {},
   "source": [
    "Next, I remove punctuation."
   ]
  },
  {
   "cell_type": "code",
   "execution_count": 9,
   "metadata": {},
   "outputs": [],
   "source": [
    "punctuation_signs = list(\"!()-[]{};:'\\,<>?$%^&*_~\")\n",
    "tweets['nopunc'] = tweets['lower']\n",
    "\n",
    "for punct_sign in punctuation_signs:\n",
    "    tweets['nopunc'] = tweets['nopunc'].str.replace(punct_sign, '')"
   ]
  },
  {
   "cell_type": "code",
   "execution_count": 10,
   "metadata": {},
   "outputs": [
    {
     "data": {
      "text/plain": [
       "'@harvkudos what was he even thinking 🤡  #farmersprotest'"
      ]
     },
     "execution_count": 10,
     "metadata": {},
     "output_type": "execute_result"
    }
   ],
   "source": [
    "tweets.loc[1]['nopunc']"
   ]
  },
  {
   "cell_type": "markdown",
   "metadata": {},
   "source": [
    "##### Dealing with emojis\n",
    "\n",
    "I convert the emojis to text as it can be used to understand the tweet better."
   ]
  },
  {
   "cell_type": "code",
   "execution_count": 11,
   "metadata": {},
   "outputs": [
    {
     "data": {
      "text/plain": [
       "'I won 1st_place_medal in cricket'"
      ]
     },
     "execution_count": 11,
     "metadata": {},
     "output_type": "execute_result"
    }
   ],
   "source": [
    "with open('Emoji_Dict.p', 'rb') as fp:\n",
    "    Emoji_Dict = pickle.load(fp)\n",
    "Emoji_Dict = {v: k for k, v in Emoji_Dict.items()}\n",
    "\n",
    "def convert_emojis(text):\n",
    "    for emot in Emoji_Dict:\n",
    "        text = re.sub(r'('+emot+')', \"_\".join(Emoji_Dict[emot].replace(\",\",\"\").replace(\":\",\"\").split()), text)\n",
    "    return text\n",
    "\n",
    "text = \"I won 🥇 in 🏏\"\n",
    "convert_emojis(text)"
   ]
  },
  {
   "cell_type": "code",
   "execution_count": 12,
   "metadata": {},
   "outputs": [],
   "source": [
    "tweets['emojis'] = tweets['nopunc'].apply(convert_emojis)"
   ]
  },
  {
   "cell_type": "code",
   "execution_count": 13,
   "metadata": {},
   "outputs": [
    {
     "data": {
      "text/plain": [
       "'@harvkudos what was he even thinking clown_face  #farmersprotest'"
      ]
     },
     "execution_count": 13,
     "metadata": {},
     "output_type": "execute_result"
    }
   ],
   "source": [
    "tweets.loc[1]['emojis']"
   ]
  },
  {
   "cell_type": "markdown",
   "metadata": {},
   "source": [
    "### Saving Datasets\n",
    "After pre-processing, I export the dataset to be used for modelling."
   ]
  },
  {
   "cell_type": "code",
   "execution_count": 14,
   "metadata": {},
   "outputs": [],
   "source": [
    "tweets.to_csv('cleaned.csv', encoding='utf-8')"
   ]
  },
  {
   "cell_type": "markdown",
   "metadata": {},
   "source": [
    "I also store a random selection of 800 tweets for manually labelling them to create a training dataset for the model."
   ]
  },
  {
   "cell_type": "code",
   "execution_count": 15,
   "metadata": {},
   "outputs": [],
   "source": [
    "#randomsample = tweets.sample(n=800)\n",
    "#randomsample = randomsample.reset_index()\n",
    "#randomsample.to_csv('toclassify2.csv', encoding='utf-8')"
   ]
  }
 ],
 "metadata": {
  "kernelspec": {
   "display_name": "Python 3",
   "language": "python",
   "name": "python3"
  },
  "language_info": {
   "codemirror_mode": {
    "name": "ipython",
    "version": 3
   },
   "file_extension": ".py",
   "mimetype": "text/x-python",
   "name": "python",
   "nbconvert_exporter": "python",
   "pygments_lexer": "ipython3",
   "version": "3.8.3"
  }
 },
 "nbformat": 4,
 "nbformat_minor": 4
}
